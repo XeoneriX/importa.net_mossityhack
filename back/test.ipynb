{
 "cells": [
  {
   "cell_type": "code",
   "execution_count": 2,
   "metadata": {},
   "outputs": [],
   "source": [
    "#!/usr/bin/env python3\n",
    "# -*- coding: utf-8 -*-\n",
    "import sys\n",
    "from bs4 import BeautifulSoup\n",
    "import requests\n",
    "\n",
    "URL: str = \"https://xn----dtbec0aczc1l.xn--p1ai/\"\n",
    "\n",
    "s = requests.Session()\n",
    "s.headers.update(\n",
    "    {\n",
    "        \"accept\": \"*/*\",\n",
    "        \"user-agent\": \"Mozilla/5.0 (Windows NT 10.0; Win64; x64) AppleWebKit/537.36 (KHTML, like Gecko) Chrome/102.0.5005.63 Safari/537.36\",\n",
    "    }\n",
    ")\n"
   ]
  },
  {
   "cell_type": "code",
   "execution_count": 3,
   "metadata": {},
   "outputs": [],
   "source": [
    " resp = s.get(URL)"
   ]
  },
  {
   "cell_type": "code",
   "execution_count": 4,
   "metadata": {},
   "outputs": [],
   "source": [
    "html_text = resp.text.replace(\"<br>\", \"\")\n",
    "soup = BeautifulSoup(html_text, \"lxml\")\n",
    "tables = soup.findAll(\"table\", {\"class\": \"table\"})\n"
   ]
  },
  {
   "cell_type": "code",
   "execution_count": 5,
   "metadata": {},
   "outputs": [],
   "source": [
    "_f = open(\"okved.csv\", \"w\")\n",
    "for table in tables:\n",
    "    trs = table.findAll(\"tr\")\n",
    "\n",
    "    for tr in trs:\n",
    "\n",
    "        try:\n",
    "            code, desc = tr.findAll(\"td\")\n",
    "\n",
    "            code = str(code.text)\n",
    "            desc = (\n",
    "                str(desc.text)\n",
    "                .replace(\"\\t\", \"\")\n",
    "                .replace(\"\\r\", \"\")\n",
    "                .replace(\"\\n\", \" \")\n",
    "                .replace(\";\", \"\")\n",
    "            )\n",
    "\n",
    "            _f.write(f\"{code};{desc}\\n\".lower())\n",
    "\n",
    "        except ValueError:\n",
    "            code, desc = \"\", \"\"\n",
    "\n",
    "_f.close()\n"
   ]
  }
 ],
 "metadata": {
  "interpreter": {
   "hash": "eb25480b107e010479ec691257d7a4547cb2ee59af6e013ee59e2261f6796bdf"
  },
  "kernelspec": {
   "display_name": "Python 3.10.4 ('git-fRxJHEJR-py3.10')",
   "language": "python",
   "name": "python3"
  },
  "language_info": {
   "codemirror_mode": {
    "name": "ipython",
    "version": 3
   },
   "file_extension": ".py",
   "mimetype": "text/x-python",
   "name": "python",
   "nbconvert_exporter": "python",
   "pygments_lexer": "ipython3",
   "version": "3.10.4"
  },
  "orig_nbformat": 4
 },
 "nbformat": 4,
 "nbformat_minor": 2
}
