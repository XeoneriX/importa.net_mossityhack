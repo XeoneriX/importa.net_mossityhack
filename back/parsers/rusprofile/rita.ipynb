{
 "cells": [
  {
   "cell_type": "code",
   "execution_count": 1,
   "metadata": {},
   "outputs": [],
   "source": [
    "import requests, json, sys\n",
    "import pprint\n",
    "from bs4 import BeautifulSoup\n",
    "import pandas\n",
    "\n",
    "s = requests.Session()\n",
    "s.headers.update(\n",
    "    {\n",
    "        \"user-agent\": \"Mozilla/5.0 (Windows NT 10.0; Win64; x64) AppleWebKit/537.36 (KHTML, like Gecko) Chrome/102.0.5005.63 Safari/537.36\"\n",
    "    }\n",
    ")\n",
    "\n",
    "s.cookies.update({\"sessid\": \"ff37d3b933419a5c50bb0ce101ef4069\"})\n"
   ]
  },
  {
   "cell_type": "code",
   "execution_count": 5,
   "metadata": {},
   "outputs": [],
   "source": [
    "URL: str = \"https://www.rusprofile.ru\"\n",
    "\n",
    "with open(\"inn_dataset.xlsx\", \"rb\") as _f:\n",
    "    df = pandas.read_excel(_f, sheet_name=0)\n",
    "\n",
    "inns: list = []\n",
    "for idx, row in df.iterrows():\n",
    "    inns.append(dict(row)[\"ИНН\"])\n"
   ]
  },
  {
   "cell_type": "code",
   "execution_count": 6,
   "metadata": {},
   "outputs": [],
   "source": [
    "def simple_search(INN: str) -> dict:\n",
    "\n",
    "    resp = s.request(\n",
    "        method=\"GET\",\n",
    "        url=\"https://www.rusprofile.ru/ajax.php\",\n",
    "        params={\"query\": INN, \"action\": \"search\"},\n",
    "    )\n",
    "\n",
    "    return resp.json()\n"
   ]
  },
  {
   "cell_type": "code",
   "execution_count": 24,
   "metadata": {},
   "outputs": [
    {
     "name": "stdout",
     "output_type": "stream",
     "text": [
      "{'success': False, 'code': 255, 'message': 'Подтвердите, что вы не робот'}\n",
      "{'success': False, 'code': 255, 'message': 'Подтвердите, что вы не робот'}\n",
      "{'success': False, 'code': 255, 'message': 'Подтвердите, что вы не робот'}\n",
      "{'success': False, 'code': 255, 'message': 'Подтвердите, что вы не робот'}\n"
     ]
    },
    {
     "ename": "KeyError",
     "evalue": "'ip'",
     "output_type": "error",
     "traceback": [
      "\u001b[1;31m---------------------------------------------------------------------------\u001b[0m",
      "\u001b[1;31mKeyError\u001b[0m                                  Traceback (most recent call last)",
      "\u001b[1;32md:\\hackathons\\MosSityHack_2022\\git\\parsers\\rusprofile\\rita.ipynb Cell 4'\u001b[0m in \u001b[0;36m<cell line: 4>\u001b[1;34m()\u001b[0m\n\u001b[0;32m     <a href='vscode-notebook-cell:/d%3A/hackathons/MosSityHack_2022/git/parsers/rusprofile/rita.ipynb#ch0000003?line=9'>10</a>\u001b[0m     \u001b[39minput\u001b[39m(\u001b[39m\"\u001b[39m\u001b[39mPlease complete robot check!\u001b[39m\u001b[39m\"\u001b[39m)\n\u001b[0;32m     <a href='vscode-notebook-cell:/d%3A/hackathons/MosSityHack_2022/git/parsers/rusprofile/rita.ipynb#ch0000003?line=11'>12</a>\u001b[0m     result \u001b[39m=\u001b[39m simple_search(inn)\n\u001b[0;32m     <a href='vscode-notebook-cell:/d%3A/hackathons/MosSityHack_2022/git/parsers/rusprofile/rita.ipynb#ch0000003?line=13'>14</a>\u001b[0m companies\u001b[39m.\u001b[39mupdate(\n\u001b[0;32m     <a href='vscode-notebook-cell:/d%3A/hackathons/MosSityHack_2022/git/parsers/rusprofile/rita.ipynb#ch0000003?line=14'>15</a>\u001b[0m     {\n\u001b[1;32m---> <a href='vscode-notebook-cell:/d%3A/hackathons/MosSityHack_2022/git/parsers/rusprofile/rita.ipynb#ch0000003?line=15'>16</a>\u001b[0m         inn: result[\u001b[39m\"\u001b[39m\u001b[39mul\u001b[39m\u001b[39m\"\u001b[39m][\u001b[39m-\u001b[39m\u001b[39m1\u001b[39m] \u001b[39mif\u001b[39;00m result[\u001b[39m\"\u001b[39m\u001b[39mul_count\u001b[39m\u001b[39m\"\u001b[39m] \u001b[39melse\u001b[39;00m result[\u001b[39m\"\u001b[39;49m\u001b[39mip\u001b[39;49m\u001b[39m\"\u001b[39;49m][\u001b[39m-\u001b[39m\u001b[39m1\u001b[39m],\n\u001b[0;32m     <a href='vscode-notebook-cell:/d%3A/hackathons/MosSityHack_2022/git/parsers/rusprofile/rita.ipynb#ch0000003?line=16'>17</a>\u001b[0m     }\n\u001b[0;32m     <a href='vscode-notebook-cell:/d%3A/hackathons/MosSityHack_2022/git/parsers/rusprofile/rita.ipynb#ch0000003?line=17'>18</a>\u001b[0m )\n",
      "\u001b[1;31mKeyError\u001b[0m: 'ip'"
     ]
    }
   ],
   "source": [
    "import time\n",
    "\n",
    "companies: dict = {}\n",
    "for inn in inns:\n",
    "    time.sleep(0.1)\n",
    "    result = simple_search(inn)\n",
    "\n",
    "    if result[\"ul_count\"] == 0 and result[\"ip_count\"] == 0:\n",
    "        continue\n",
    "\n",
    "    if result[\"success\"] == False:\n",
    "        print(result)\n",
    "        input(\"Please complete robot check!\")\n",
    "\n",
    "        result = simple_search(inn)\n",
    "\n",
    "    companies.update(\n",
    "        {\n",
    "            inn: result[\"ul\"][-1] if result[\"ul_count\"] else result[\"ip\"][-1],\n",
    "        }\n",
    "    )\n"
   ]
  },
  {
   "cell_type": "code",
   "execution_count": 25,
   "metadata": {},
   "outputs": [
    {
     "name": "stdout",
     "output_type": "stream",
     "text": [
      "'7713085659', 'АО \"ВБД\"'\n",
      "'7712040285', 'ПАО \"НПО \"Алмаз\"'\n",
      "'7715034360', 'АО \"Омпк\"'\n",
      "'7718013714', 'АО \"ЧМПЗ\"'\n",
      "'7714733528', 'АО \"РСК \"МИГ\"'\n",
      "'7709259743', 'АО МАЗ \"Москвич\"'\n",
      "'7705033216', 'ОАО \"Рот Фронт\"'\n",
      "'7714941510', 'АО \"Мослифт\"'\n",
      "'7718160370', 'АО \"Ральф Рингер\"'\n",
      "'7708029391', 'ОАО \"Кондитерский Концерн Бабаевский \"'\n",
      "'7722169626', 'ЗАО \"Микояновский Мясокомбинат\"'\n",
      "'3807002509', 'ПАО \"Корпорация \"Иркут\"'\n",
      "'7723006328', 'АО \"Газпромнефть - МНПЗ\"'\n",
      "'5001026970', 'АО \"Фаберлик\"'\n",
      "'7714081921', 'АО \"МПО им. И. Румянцева\"'\n",
      "'7706043263', 'ПАО \"Красный Октябрь\"'\n",
      "'5051000880', 'АО \"ЩЛЗ\"'\n",
      "'7715900066', 'АО \"ЦНИИАГ\"'\n",
      "'7724766868', 'ЗАО БКК \"Коломенский\"'\n",
      "'7724313681', 'АО \"ФЦНИВТ \"СНПО \"Элерон\"'\n",
      "'7731178578', 'ООО \"Дымовское Колбасное Производство\"'\n",
      "'7707019672', 'АО МТЗ Трансмаш'\n",
      "'7721024057', 'ПАО \"КМЗ\"'\n",
      "'5074114435', 'ООО \"Профильдоорс\"'\n",
      "'7724552070', 'АО \"ГНПП \"Регион\"'\n",
      "'7724075162', 'ФГБУ \"НМИЦ Онкологии им. Н.Н. Блохина\" Минздрава России'\n",
      "'7714272080', 'ООО \"Лайктонн\"'\n",
      "'7720579828', 'АО \"Московский ЛРЗ\"'\n",
      "'7720827686', 'ООО \"МПЗ\"'\n",
      "'7701315700', 'АО \"Вниирт\"'\n",
      "'7715218978', 'АО \"Аэроэлектромаш\"'\n",
      "'7713016180', 'АО \"Меридиан\"'\n",
      "'7718183890', 'АО «ПК ХК Электрозавод»'\n",
      "'7717022177', 'ПАО \"НПП \"Импульс\"'\n",
      "'7715906332', 'АО \"Концерн \"Автоматика\"'\n",
      "'7724017435', 'ОАО \"Царицыно\"'\n",
      "'7711027436', 'ФГУП \"Московское ПРОП\" Минтруда России'\n",
      "'7718007990', 'ООО \"МЗСА\"'\n",
      "'7707406390', 'ООО \"ОКБ Норд\"'\n",
      "'7723005557', 'АО \"ССД\"'\n",
      "'7720673002', 'АО \"НПП \"Салют\"'\n",
      "'7714005350', 'ПАО НПО \"Наука\"'\n",
      "'7719830028', 'АО \"НПО \"Базальт\"'\n",
      "'7713006449', 'АО РТИ'\n",
      "'7720015691', 'АО \"ОКБ \"Кристалл\"'\n",
      "'7717693545', 'АО \"Госниип\"'\n",
      "'7720066255', 'АО \"ММЗ \"Вперед\"'\n",
      "'9715389053', 'АО \"НТЦ \"Атлас\"'\n",
      "'772307790290', 'Ваксина Оксана Владимировна'\n",
      "'7721035813', 'АО \"Полимербыт\"'\n",
      "'7713153394', 'ООО \"Пик-Профиль\"'\n",
      "'7715081064', 'АО \"Медведково\"'\n",
      "'7724685256', 'ООО \"НПП \"Итэлма\"'\n",
      "'7727547920', 'АО \"КБК \"Черёмушки\"'\n",
      "'7720605108', 'ООО \"Фабрика Вентиляции Галвент\"'\n",
      "'7704869777', 'ООО \"Ртитс\"'\n",
      "'7728060368', 'ОАО \"КБК \"Черемушки\"'\n",
      "'7727081943', 'ЗАО Фирма \"Черемушки\"'\n",
      "'7733022671', 'ПАО \"Радиофизика\"'\n",
      "'7743028263', 'АО \"Элар\"'\n",
      "'7743252515', 'ООО \"Мечтатель\"'\n",
      "'7735512978', 'ООО \"ПП \"Виват\"'\n",
      "'7705021669', 'ООО \"Гришко\"'\n",
      "'7725618132', 'ООО \"ААТ\"'\n",
      "'9701039940', 'АО \"Цнирти им. Академика А.И. Берга\"'\n",
      "'7706042326', 'АО \"Ударница\"'\n",
      "'7725008994', 'ЗАО \"Новая Заря\"'\n",
      "'7728220318', 'ООО \"С.П.Гелпик\"'\n"
     ]
    }
   ],
   "source": [
    "for k,v in companies.items():\n",
    "    inn = v['inn'].replace(\"!~~\", \"\").replace(\"~~!\", \"\")\n",
    "    print(f\"'{inn}', '{v['name']}'\")\n",
    "    # print(v)"
   ]
  },
  {
   "cell_type": "code",
   "execution_count": 26,
   "metadata": {},
   "outputs": [
    {
     "data": {
      "text/plain": [
       "{'ul_count': 0, 'ip_count': 0, 'success': True, 'code': 0, 'message': 'OK'}"
      ]
     },
     "execution_count": 26,
     "metadata": {},
     "output_type": "execute_result"
    }
   ],
   "source": [
    "result\n",
    "print(len()"
   ]
  }
 ],
 "metadata": {
  "interpreter": {
   "hash": "eb25480b107e010479ec691257d7a4547cb2ee59af6e013ee59e2261f6796bdf"
  },
  "kernelspec": {
   "display_name": "Python 3.10.4 ('git-fRxJHEJR-py3.10')",
   "language": "python",
   "name": "python3"
  },
  "language_info": {
   "codemirror_mode": {
    "name": "ipython",
    "version": 3
   },
   "file_extension": ".py",
   "mimetype": "text/x-python",
   "name": "python",
   "nbconvert_exporter": "python",
   "pygments_lexer": "ipython3",
   "version": "3.10.4"
  },
  "orig_nbformat": 4
 },
 "nbformat": 4,
 "nbformat_minor": 2
}
