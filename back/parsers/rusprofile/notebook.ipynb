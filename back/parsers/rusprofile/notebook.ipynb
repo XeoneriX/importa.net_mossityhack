{
 "cells": [
  {
   "cell_type": "code",
   "execution_count": 45,
   "metadata": {},
   "outputs": [],
   "source": [
    "import requests, json, sys\n",
    "import pprint\n",
    "from bs4 import BeautifulSoup\n",
    "\n",
    "s = requests.Session()\n",
    "s.headers.update(\n",
    "    {\n",
    "        \"user-agent\": \"Mozilla/5.0 (Windows NT 10.0; Win64; x64) AppleWebKit/537.36 (KHTML, like Gecko) Chrome/102.0.5005.63 Safari/537.36\"\n",
    "    }\n",
    ")\n",
    "\n",
    "s.cookies.update({\"sessid\": \"ff37d3b933419a5c50bb0ce101ef4069\"})\n"
   ]
  },
  {
   "cell_type": "code",
   "execution_count": 46,
   "metadata": {},
   "outputs": [],
   "source": [
    "URL: str = \"https://www.rusprofile.ru\"\n"
   ]
  },
  {
   "cell_type": "code",
   "execution_count": 47,
   "metadata": {},
   "outputs": [],
   "source": [
    "resp = s.request(\n",
    "    method=\"POST\",\n",
    "    url=f\"{URL}/ajax_auth.php\",\n",
    "    params={\n",
    "        \"action\": \"search_advanced\",\n",
    "        \"cacheKey\": 0.5385607832724648,\n",
    "    },\n",
    "    data=json.dumps(\n",
    "        {\n",
    "            \"state-1\": True,\n",
    "            \"okved_strict\": True,\n",
    "            \"date_begin\": \"2022-01-01\",\n",
    "            \"region\": [\"97,77,99\", \"50,90\"],\n",
    "            \"page\": \"1\",\n",
    "        }\n",
    "    ),\n",
    ")\n"
   ]
  },
  {
   "cell_type": "code",
   "execution_count": 48,
   "metadata": {},
   "outputs": [
    {
     "ename": "KeyError",
     "evalue": "''",
     "output_type": "error",
     "traceback": [
      "\u001b[1;31m---------------------------------------------------------------------------\u001b[0m",
      "\u001b[1;31mKeyError\u001b[0m                                  Traceback (most recent call last)",
      "\u001b[1;32md:\\hackathons\\MosSityHack_2022\\git\\parsers\\rusprofile\\notebook.ipynb Cell 4'\u001b[0m in \u001b[0;36m<cell line: 9>\u001b[1;34m()\u001b[0m\n\u001b[0;32m      <a href='vscode-notebook-cell:/d%3A/hackathons/MosSityHack_2022/git/parsers/rusprofile/notebook.ipynb#ch0000003?line=6'>7</a>\u001b[0m company_name \u001b[39m=\u001b[39m result_single[\u001b[39m\"\u001b[39m\u001b[39mname\u001b[39m\u001b[39m\"\u001b[39m]\n\u001b[0;32m      <a href='vscode-notebook-cell:/d%3A/hackathons/MosSityHack_2022/git/parsers/rusprofile/notebook.ipynb#ch0000003?line=7'>8</a>\u001b[0m company_region \u001b[39m=\u001b[39m result_single[\u001b[39m\"\u001b[39m\u001b[39mregion\u001b[39m\u001b[39m\"\u001b[39m]\n\u001b[1;32m----> <a href='vscode-notebook-cell:/d%3A/hackathons/MosSityHack_2022/git/parsers/rusprofile/notebook.ipynb#ch0000003?line=8'>9</a>\u001b[0m company_status \u001b[39m=\u001b[39m result_single[\u001b[39m\"\u001b[39;49m\u001b[39m\"\u001b[39;49m]\n\u001b[0;32m     <a href='vscode-notebook-cell:/d%3A/hackathons/MosSityHack_2022/git/parsers/rusprofile/notebook.ipynb#ch0000003?line=9'>10</a>\u001b[0m company_reg_date \u001b[39m=\u001b[39m result_single[\u001b[39m\"\u001b[39m\u001b[39mreg_data\u001b[39m\u001b[39m\"\u001b[39m]\n\u001b[0;32m     <a href='vscode-notebook-cell:/d%3A/hackathons/MosSityHack_2022/git/parsers/rusprofile/notebook.ipynb#ch0000003?line=10'>11</a>\u001b[0m pprint\u001b[39m.\u001b[39mpprint(result_single)\n",
      "\u001b[1;31mKeyError\u001b[0m: ''"
     ]
    }
   ],
   "source": [
    "data = resp.json()\n",
    "result = data[\"result\"]\n",
    "\n",
    "company = result[-1]\n",
    "company_ogrn = result_single[\"raw_ogrn\"]\n",
    "company_inn = result_single[\"inn\"]\n",
    "company_name = result_single[\"name\"]\n",
    "company_region = result_single[\"region\"]\n",
    "company_status = result_single[\"\"]\n",
    "company_reg_date = result_single[\"reg_data\"]\n",
    "pprint.pprint(result_single)\n"
   ]
  },
  {
   "cell_type": "code",
   "execution_count": null,
   "metadata": {},
   "outputs": [],
   "source": [
    "resp = s.request(\n",
    "    method=\"GET\",\n",
    "    url=f\"{URL}/okved/{raw_ogrn}\",\n",
    ")\n"
   ]
  },
  {
   "cell_type": "code",
   "execution_count": null,
   "metadata": {},
   "outputs": [],
   "source": [
    "soup = BeautifulSoup(resp.text, \"lxml\")\n"
   ]
  },
  {
   "cell_type": "code",
   "execution_count": null,
   "metadata": {},
   "outputs": [],
   "source": [
    "ovked_list = soup.find_all(\"li\", {\"class\": \"okved-item\"})\n"
   ]
  },
  {
   "cell_type": "code",
   "execution_count": null,
   "metadata": {},
   "outputs": [
    {
     "name": "stdout",
     "output_type": "stream",
     "text": [
      "18.12 Прочие виды полиграфической деятельности\n",
      "20.14.4 Производство органических соединений с азотсодержащими функциональными группами\n",
      "21.10 Производство фармацевтических субстанций\n",
      "21.20 Производство лекарственных препаратов и материалов, применяемых в медицинских целях\n",
      "26.11.3 Производство интегральных электронных схем\n",
      "26.12 Производство электронных печатных плат\n",
      "26.51 Производство инструментов и приборов для измерения, тестирования и навигации\n",
      "26.51.8 Производство частей приборов и инструментов для навигации, управления, измерения, контроля, испытаний и прочих целей\n",
      "30.30.4 Производство космических аппаратов (в том числе спутников), ракет-носителей\n",
      "33.12 Ремонт машин и оборудования\n",
      "33.14 Ремонт электрического оборудования\n",
      "33.20 Монтаж промышленных машин и оборудования\n",
      "43.21 Производство электромонтажных работ\n",
      "43.29 Производство прочих строительно-монтажных работ\n",
      "58.11 Издание книг\n",
      "58.14 Издание журналов и периодических изданий\n",
      "58.19 Виды издательской деятельности прочие\n",
      "61.10.1 Деятельность по предоставлению услуг телефонной связи\n",
      "61.10.9 Деятельность в области связи на базе проводных технологий прочая\n",
      "62.01 Разработка компьютерного программного обеспечения\n",
      "62.09 Деятельность, связанная с использованием вычислительной техники и информационных технологий, прочая\n",
      "63.11 Деятельность по обработке данных, предоставление услуг по размещению информации и связанная с этим деятельность\n",
      "63.99.1 Деятельность по оказанию консультационных и информационных услуг\n",
      "68.20.2 Аренда и управление собственным или арендованным нежилым недвижимым имуществом\n",
      "70.21 Деятельность в сфере связей с общественностью\n",
      "71.12 Деятельность в области инженерных изысканий, инженерно-технического проектирования, управления проектами строительства, выполнения строительного контроля и авторского надзора, предоставление технических консультаций в этих областях\n",
      "71.12.6 Деятельность в области технического регулирования, стандартизации, метрологии, аккредитации, каталогизации продукции\n",
      "71.20 Технические испытания, исследования, анализ и сертификация\n",
      "71.20.3 Испытания и анализ физико-механических свойств материалов и веществ\n",
      "71.20.6 Экспертиза проектной документации, запасов полезных ископаемых и подземных вод, геологической информации о предоставляемых в пользование участках недр, результатов инженерных изысканий\n",
      "71.20.9 Деятельность по техническому контролю, испытаниям и анализу прочая\n",
      "74.90.3 Предоставление консультационных услуг по вопросам безопасности\n",
      "77.39.29 Аренда и лизинг прочих машин и оборудования научного и промышленного назначения\n",
      "80.20 Деятельность систем обеспечения безопасности\n",
      "82.30 Деятельность по организации конференций и выставок\n",
      "85.22 Образование высшее\n",
      "85.23 Подготовка кадров высшей квалификации\n",
      "85.41.9 Образование дополнительное детей и взрослых прочее, не включенное в другие группировки\n",
      "85.42 Образование профессиональное дополнительное\n"
     ]
    }
   ],
   "source": [
    "for okved_item in ovked_list:\n",
    "\n",
    "    okved_num = okved_item.find(\"div\", {\"class\": \"okved-item__num\"}).text\n",
    "    okved_text = okved_item.find(\"div\", {\"class\": \"okved-item__text\"}).text\n",
    "    print(okved_num, okved_text)\n"
   ]
  },
  {
   "cell_type": "code",
   "execution_count": null,
   "metadata": {},
   "outputs": [],
   "source": []
  }
 ],
 "metadata": {
  "interpreter": {
   "hash": "eb25480b107e010479ec691257d7a4547cb2ee59af6e013ee59e2261f6796bdf"
  },
  "kernelspec": {
   "display_name": "Python 3.10.4 ('git-fRxJHEJR-py3.10')",
   "language": "python",
   "name": "python3"
  },
  "language_info": {
   "codemirror_mode": {
    "name": "ipython",
    "version": 3
   },
   "file_extension": ".py",
   "mimetype": "text/x-python",
   "name": "python",
   "nbconvert_exporter": "python",
   "pygments_lexer": "ipython3",
   "version": "3.10.4"
  },
  "orig_nbformat": 4
 },
 "nbformat": 4,
 "nbformat_minor": 2
}
